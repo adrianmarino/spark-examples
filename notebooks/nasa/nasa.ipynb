{
 "cells": [
  {
   "cell_type": "markdown",
   "metadata": {},
   "source": [
    "\n",
    "## Nasa example\n",
    "\n",
    "**Question**: What are the endpoints most accessed between 20:00 and 23:59?\n"
   ]
  },
  {
   "cell_type": "markdown",
   "metadata": {},
   "source": [
    "**Step 1**: Before all, download [nasa logs](http://ita.ee.lbl.gov/html/contrib/NASA-HTTP.html).\n",
    "\n",
    "**Step 2**: Load logs and show lines count."
   ]
  },
  {
   "cell_type": "code",
   "execution_count": 82,
   "metadata": {
    "collapsed": false
   },
   "outputs": [
    {
     "name": "stdout",
     "output_type": "stream",
     "text": [
      "Lines: 1891715.\n"
     ]
    }
   ],
   "source": [
    "lines = sc.textFile('/home/adrian/development/spark/notebooks/nasa/access_log_Jul95')\n",
    "\n",
    "print('Lines: %s.' % lines.count())"
   ]
  },
  {
   "cell_type": "markdown",
   "metadata": {},
   "source": [
    "**Step 3**: Get line tuple."
   ]
  },
  {
   "cell_type": "code",
   "execution_count": 79,
   "metadata": {
    "collapsed": false
   },
   "outputs": [
    {
     "name": "stdout",
     "output_type": "stream",
     "text": [
      "Line tuple: [('199.72.81.55', datetime.datetime(1995, 7, 1, 0, 0, 1, tzinfo=datetime.timezone(datetime.timedelta(-1, 72000))), '\"GET /history/apollo/ HTTP/1.0\" 200 6245')].\n"
     ]
    }
   ],
   "source": [
    "import time\n",
    "import datetime\n",
    "\n",
    "def to_timestamp(string):\n",
    "    return datetime.datetime.strptime(string, '%d/%b/%Y:%H:%M:%S %z')\n",
    "\n",
    "def to_line_tuple(line):\n",
    "    line_part = line.replace('[', ',').replace(']',',').split(',')\n",
    "    return (line_part[0].replace('-','').strip(), to_timestamp(line_part[1]), line_part[2].strip())\n",
    "\n",
    "\n",
    "line_tuples = lines.map(lambda line: to_line_tuple(line)).cache()\n",
    "    \n",
    "print('Line tuple: %s.' % line_tuples.take(1))"
   ]
  },
  {
   "cell_type": "markdown",
   "metadata": {},
   "source": [
    "**Step 4**: Get log rows."
   ]
  },
  {
   "cell_type": "code",
   "execution_count": 80,
   "metadata": {
    "collapsed": false,
    "scrolled": true
   },
   "outputs": [
    {
     "name": "stdout",
     "output_type": "stream",
     "text": [
      "+------------+--------------------+--------------------+\n",
      "| remote_host|            datetime|             message|\n",
      "+------------+--------------------+--------------------+\n",
      "|199.72.81.55|1995-07-01 01:00:...|\"GET /history/apo...|\n",
      "+------------+--------------------+--------------------+\n",
      "only showing top 1 row\n",
      "\n"
     ]
    }
   ],
   "source": [
    "from pyspark.sql.types import *\n",
    "from pyspark.sql import *\n",
    "from pyspark.sql.functions import *\n",
    "\n",
    "LogRow = StructType([  StructField('remote_host', StringType(),    False), \\\n",
    "                       StructField('datetime',    TimestampType(), False), \\\n",
    "                       StructField('message',     StringType(),    False)  ])\n",
    "    \n",
    "rows = sqlCtx.createDataFrame(line_tuples, LogRow)\n",
    "\n",
    "rows.show(1)"
   ]
  },
  {
   "cell_type": "markdown",
   "metadata": {},
   "source": [
    "**Step 5**: Get rows between 20:00 and 23:59."
   ]
  },
  {
   "cell_type": "code",
   "execution_count": 81,
   "metadata": {
    "collapsed": true
   },
   "outputs": [],
   "source": [
    "# In Progress..."
   ]
  },
  {
   "cell_type": "markdown",
   "metadata": {},
   "source": [
    "**Step 6**: Get endpoints most accessed."
   ]
  },
  {
   "cell_type": "code",
   "execution_count": null,
   "metadata": {
    "collapsed": true
   },
   "outputs": [],
   "source": [
    "# In Progress..."
   ]
  }
 ],
 "metadata": {
  "anaconda-cloud": {},
  "kernelspec": {
   "display_name": "Python [Root]",
   "language": "python",
   "name": "Python [Root]"
  },
  "language_info": {
   "codemirror_mode": {
    "name": "ipython",
    "version": 3
   },
   "file_extension": ".py",
   "mimetype": "text/x-python",
   "name": "python",
   "nbconvert_exporter": "python",
   "pygments_lexer": "ipython3",
   "version": "3.5.1"
  }
 },
 "nbformat": 4,
 "nbformat_minor": 0
}
