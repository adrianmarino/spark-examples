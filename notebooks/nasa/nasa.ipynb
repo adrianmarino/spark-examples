{
 "cells": [
  {
   "cell_type": "markdown",
   "metadata": {},
   "source": [
    "\n",
    "## Nasa example\n",
    "\n",
    "**Question**: What are the endpoints most accessed between 20:00 and 23:59?"
   ]
  },
  {
   "cell_type": "markdown",
   "metadata": {},
   "source": [
    "\n",
    "**Step 1**: Install apache-log-parser lib:\n",
    "```bash\n",
    "pip install apache-log-parser\n",
    "```\n",
    "After installation, reboot jupyter."
   ]
  },
  {
   "cell_type": "markdown",
   "metadata": {},
   "source": [
    "**Step 2**: Set max executor memory."
   ]
  },
  {
   "cell_type": "code",
   "execution_count": 64,
   "metadata": {
    "collapsed": false
   },
   "outputs": [
    {
     "data": {
      "text/plain": [
       "<pyspark.conf.SparkConf at 0x7f0039e2dfd0>"
      ]
     },
     "execution_count": 64,
     "metadata": {},
     "output_type": "execute_result"
    }
   ],
   "source": [
    "sc._conf.set(\"spark.executor.memory\", \"8g\")"
   ]
  },
  {
   "cell_type": "markdown",
   "metadata": {},
   "source": [
    "**Step 3**: Download [nasa logs](http://ita.ee.lbl.gov/html/contrib/NASA-HTTP.html) used as input of this example."
   ]
  },
  {
   "cell_type": "markdown",
   "metadata": {},
   "source": [
    "**Step 4**: Load logs and show lines count."
   ]
  },
  {
   "cell_type": "code",
   "execution_count": 79,
   "metadata": {
    "collapsed": false
   },
   "outputs": [
    {
     "name": "stdout",
     "output_type": "stream",
     "text": [
      "First Line: ['199.72.81.55 - - [01/Jul/1995:00:00:01 -0400] \"GET /history/apollo/ HTTP/1.0\" 200 6245']\n",
      "File size: 1891715 lines.\n"
     ]
    }
   ],
   "source": [
    "lines = sc.textFile('/home/adrian/development/spark/notebooks/nasa/access_log_Jul95').cache()\n",
    "\n",
    "print('First Line: %s' % lines.take(1))\n",
    "print('File size: %s lines.' % lines.count())"
   ]
  },
  {
   "cell_type": "markdown",
   "metadata": {},
   "source": [
    "**Step 3**: Get log lines in tuples."
   ]
  },
  {
   "cell_type": "code",
   "execution_count": 84,
   "metadata": {
    "collapsed": false
   },
   "outputs": [
    {
     "name": "stdout",
     "output_type": "stream",
     "text": [
      "Line tuple: [('199.72.81.55', datetime.datetime(1995, 7, 1, 0, 0, 1), ' /history/apollo/ ', 200, 6245)].\n"
     ]
    }
   ],
   "source": [
    "import sys\n",
    "from py4j.protocol import Py4JJavaError\n",
    "import apache_log_parser\n",
    "\n",
    "parser = apache_log_parser.make_parser('%h - - %t \\\"%r\\\" %s %b')\n",
    "\n",
    "def is_valid(line):\n",
    "    return len(line) > 50 and \\\n",
    "            'image' not in line and \\\n",
    "            'icon' not in line and \\\n",
    "            '.gif' not in line\n",
    "\n",
    "def to_log_line(line):\n",
    "    parsed_line = parser(line)\n",
    "    return (parsed_line['remote_host'], \\\n",
    "            parsed_line['time_received_datetimeobj'], \\\n",
    "            parsed_line['request_first_line'].replace('GET', '').replace('HTTP/1.0',''), \\\n",
    "            int(parsed_line['status']), \\\n",
    "            int(parsed_line['response_bytes_clf'].replace('-','0')))    \n",
    "\n",
    "line_tuples = lines.filter(is_valid).map(to_log_line).cache()\n",
    "\n",
    "print('Line tuple: %s.' % line_tuples.take(1))"
   ]
  },
  {
   "cell_type": "markdown",
   "metadata": {},
   "source": [
    "**Step 4**: Get log rows."
   ]
  },
  {
   "cell_type": "code",
   "execution_count": 85,
   "metadata": {
    "collapsed": false,
    "scrolled": true
   },
   "outputs": [
    {
     "name": "stdout",
     "output_type": "stream",
     "text": [
      "+------------+---------------------+------------------+------+-------------+\n",
      "|remote_host |timestamp            |endpoint          |status|response_size|\n",
      "+------------+---------------------+------------------+------+-------------+\n",
      "|199.72.81.55|1995-07-01 00:00:01.0| /history/apollo/ |200   |6245         |\n",
      "+------------+---------------------+------------------+------+-------------+\n",
      "only showing top 1 row\n",
      "\n"
     ]
    }
   ],
   "source": [
    "from pyspark.sql.types import *\n",
    "from pyspark.sql import *\n",
    "from pyspark.sql.functions import *\n",
    "\n",
    "LogRow = StructType([  StructField('remote_host',   StringType(),    False), \\\n",
    "                       StructField('timestamp',     TimestampType(), False), \\\n",
    "                       StructField('endpoint',      StringType(),    False), \\\n",
    "                       StructField('status',        IntegerType(),   False), \\\n",
    "                       StructField('response_size', LongType(),      False), ])\n",
    "\n",
    "rows = sqlCtx.createDataFrame(line_tuples, LogRow).cache()\n",
    "\n",
    "rows.show(1, False)"
   ]
  },
  {
   "cell_type": "markdown",
   "metadata": {},
   "source": [
    "**Step 5**: Get endpoints most accessed between 20:00 and 23:59."
   ]
  },
  {
   "cell_type": "code",
   "execution_count": 86,
   "metadata": {
    "collapsed": false
   },
   "outputs": [
    {
     "name": "stdout",
     "output_type": "stream",
     "text": [
      "+-------------------------------------------------+-----+\n",
      "|endpoint                                         |count|\n",
      "+-------------------------------------------------+-----+\n",
      "| /shuttle/countdown/                             |5590 |\n",
      "| /                                               |4970 |\n",
      "| /ksc.html                                       |4084 |\n",
      "| /shuttle/missions/missions.html                 |3617 |\n",
      "| /htbin/cdt_main.pl                              |2961 |\n",
      "| /shuttle/countdown/liftoff.html                 |2569 |\n",
      "| /shuttle/missions/sts-71/mission-sts-71.html    |2569 |\n",
      "| /history/apollo/apollo-13/apollo-13.html        |2489 |\n",
      "| /history/apollo/apollo.html                     |2476 |\n",
      "| /shuttle/missions/sts-70/mission-sts-70.html    |2264 |\n",
      "| /history/history.html                           |1911 |\n",
      "| /shuttle/countdown/countdown.html               |1195 |\n",
      "| /software/winvn/winvn.html                      |1122 |\n",
      "| /shuttle/technology/sts-newsref/stsref-toc.html |1108 |\n",
      "| /history/apollo/apollo-13/apollo-13-info.html   |1101 |\n",
      "| /shuttle/missions/sts-71/movies/movies.html     |946  |\n",
      "| /htbin/cdt_clock.pl                             |906  |\n",
      "| /facilities/lc39a.html                          |904  |\n",
      "| /shuttle/missions/sts-69/mission-sts-69.html    |892  |\n",
      "| /shuttle/missions/sts-70/movies/movies.html     |871  |\n",
      "+-------------------------------------------------+-----+\n",
      "only showing top 20 rows\n",
      "\n"
     ]
    }
   ],
   "source": [
    "rows.where('hour(timestamp) >= 20 and hour(timestamp) <= 23 and status = 200') \\\n",
    "    .groupBy('endpoint') \\\n",
    "    .count() \\\n",
    "    .orderBy(desc('count')) \\\n",
    "    .show(20, False)"
   ]
  }
 ],
 "metadata": {
  "anaconda-cloud": {},
  "kernelspec": {
   "display_name": "Python [Root]",
   "language": "python",
   "name": "Python [Root]"
  },
  "language_info": {
   "codemirror_mode": {
    "name": "ipython",
    "version": 3
   },
   "file_extension": ".py",
   "mimetype": "text/x-python",
   "name": "python",
   "nbconvert_exporter": "python",
   "pygments_lexer": "ipython3",
   "version": "3.5.1"
  }
 },
 "nbformat": 4,
 "nbformat_minor": 0
}
